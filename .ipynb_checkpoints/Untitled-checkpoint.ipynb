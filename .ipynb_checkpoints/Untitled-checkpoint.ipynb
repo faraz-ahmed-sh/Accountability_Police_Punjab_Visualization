{
 "cells": [
  {
   "cell_type": "code",
   "execution_count": 3,
   "metadata": {
    "collapsed": true
   },
   "outputs": [],
   "source": [
    "import pandas as pd\n",
    "import csv"
   ]
  },
  {
   "cell_type": "code",
   "execution_count": 4,
   "metadata": {
    "collapsed": true
   },
   "outputs": [],
   "source": [
    "file_name = '01_Const_2016' + '.csv'"
   ]
  },
  {
   "cell_type": "code",
   "execution_count": 64,
   "metadata": {
    "collapsed": false
   },
   "outputs": [
    {
     "name": "stdout",
     "output_type": "stream",
     "text": [
      "Removal\n",
      "from\n",
      "service.\n",
      "\n"
     ]
    }
   ],
   "source": [
    "with open(file_name) as fn:\n",
    "    k = csv.reader(fn)\n",
    "    j = 0\n",
    "    for i in k:\n",
    "        if j not in [0,1,2]: # skip the first three lines\n",
    "            if j in [3,4,5,6]:\n",
    "                #print(j)\n",
    "                for m in i:\n",
    "                    new_str += '' + m\n",
    "                #new_line.append()\n",
    "            #print(i)\n",
    "        j += 1\n",
    "    \n",
    "    \n",
    "    #print(k)"
   ]
  },
  {
   "cell_type": "code",
   "execution_count": null,
   "metadata": {
    "collapsed": true
   },
   "outputs": [],
   "source": []
  }
 ],
 "metadata": {
  "kernelspec": {
   "display_name": "Python 3",
   "language": "python",
   "name": "python3"
  },
  "language_info": {
   "codemirror_mode": {
    "name": "ipython",
    "version": 3
   },
   "file_extension": ".py",
   "mimetype": "text/x-python",
   "name": "python",
   "nbconvert_exporter": "python",
   "pygments_lexer": "ipython3",
   "version": "3.6.1"
  }
 },
 "nbformat": 4,
 "nbformat_minor": 2
}
